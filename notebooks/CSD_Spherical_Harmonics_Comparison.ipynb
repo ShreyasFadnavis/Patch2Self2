{
 "cells": [
  {
   "cell_type": "code",
   "execution_count": 1,
   "metadata": {
    "scrolled": true
   },
   "outputs": [
    {
     "name": "stdout",
     "output_type": "stream",
     "text": [
      "Denoised b0 Volume:  0\n",
      "Denoised b0 Volume:  1\n",
      "Denoised b0 Volume:  2\n",
      "Denoised b0 Volume:  3\n",
      "Denoised b0 Volume:  4\n",
      "Denoised b0 Volume:  5\n",
      "Denoised b0 Volume:  6\n",
      "Denoised b0 Volume:  7\n",
      "Denoised b0 Volume:  8\n",
      "Denoised b0 Volume:  9\n",
      "Denoised DWI Volume:  0\n",
      "Denoised DWI Volume:  1\n",
      "Denoised DWI Volume:  2\n",
      "Denoised DWI Volume:  3\n",
      "Denoised DWI Volume:  4\n",
      "Denoised DWI Volume:  5\n",
      "Denoised DWI Volume:  6\n",
      "Denoised DWI Volume:  7\n",
      "Denoised DWI Volume:  8\n",
      "Denoised DWI Volume:  9\n",
      "Denoised DWI Volume:  10\n",
      "Denoised DWI Volume:  11\n",
      "Denoised DWI Volume:  12\n",
      "Denoised DWI Volume:  13\n",
      "Denoised DWI Volume:  14\n",
      "Denoised DWI Volume:  15\n",
      "Denoised DWI Volume:  16\n",
      "Denoised DWI Volume:  17\n",
      "Denoised DWI Volume:  18\n",
      "Denoised DWI Volume:  19\n",
      "Denoised DWI Volume:  20\n",
      "Denoised DWI Volume:  21\n",
      "Denoised DWI Volume:  22\n",
      "Denoised DWI Volume:  23\n",
      "Denoised DWI Volume:  24\n",
      "Denoised DWI Volume:  25\n",
      "Denoised DWI Volume:  26\n",
      "Denoised DWI Volume:  27\n",
      "Denoised DWI Volume:  28\n",
      "Denoised DWI Volume:  29\n",
      "Denoised DWI Volume:  30\n",
      "Denoised DWI Volume:  31\n",
      "Denoised DWI Volume:  32\n",
      "Denoised DWI Volume:  33\n",
      "Denoised DWI Volume:  34\n",
      "Denoised DWI Volume:  35\n",
      "Denoised DWI Volume:  36\n",
      "Denoised DWI Volume:  37\n",
      "Denoised DWI Volume:  38\n",
      "Denoised DWI Volume:  39\n",
      "Denoised DWI Volume:  40\n",
      "Denoised DWI Volume:  41\n",
      "Denoised DWI Volume:  42\n",
      "Denoised DWI Volume:  43\n",
      "Denoised DWI Volume:  44\n",
      "Denoised DWI Volume:  45\n",
      "Denoised DWI Volume:  46\n",
      "Denoised DWI Volume:  47\n",
      "Denoised DWI Volume:  48\n",
      "Denoised DWI Volume:  49\n",
      "Denoised DWI Volume:  50\n",
      "Denoised DWI Volume:  51\n",
      "Denoised DWI Volume:  52\n",
      "Denoised DWI Volume:  53\n",
      "Denoised DWI Volume:  54\n",
      "Denoised DWI Volume:  55\n",
      "Denoised DWI Volume:  56\n",
      "Denoised DWI Volume:  57\n",
      "Denoised DWI Volume:  58\n",
      "Denoised DWI Volume:  59\n",
      "Denoised DWI Volume:  60\n",
      "Denoised DWI Volume:  61\n",
      "Denoised DWI Volume:  62\n",
      "Denoised DWI Volume:  63\n",
      "Denoised DWI Volume:  64\n",
      "Denoised DWI Volume:  65\n",
      "Denoised DWI Volume:  66\n",
      "Denoised DWI Volume:  67\n",
      "Denoised DWI Volume:  68\n",
      "Denoised DWI Volume:  69\n",
      "Denoised DWI Volume:  70\n",
      "Denoised DWI Volume:  71\n",
      "Denoised DWI Volume:  72\n",
      "Denoised DWI Volume:  73\n",
      "Denoised DWI Volume:  74\n",
      "Denoised DWI Volume:  75\n",
      "Denoised DWI Volume:  76\n",
      "Denoised DWI Volume:  77\n",
      "Denoised DWI Volume:  78\n",
      "Denoised DWI Volume:  79\n",
      "Denoised DWI Volume:  80\n",
      "Denoised DWI Volume:  81\n",
      "Denoised DWI Volume:  82\n",
      "Denoised DWI Volume:  83\n",
      "Denoised DWI Volume:  84\n",
      "Denoised DWI Volume:  85\n",
      "Denoised DWI Volume:  86\n",
      "Denoised DWI Volume:  87\n",
      "Denoised DWI Volume:  88\n",
      "Denoised DWI Volume:  89\n",
      "Denoised DWI Volume:  90\n",
      "Denoised DWI Volume:  91\n",
      "Denoised DWI Volume:  92\n",
      "Denoised DWI Volume:  93\n",
      "Denoised DWI Volume:  94\n",
      "Denoised DWI Volume:  95\n",
      "Denoised DWI Volume:  96\n",
      "Denoised DWI Volume:  97\n",
      "Denoised DWI Volume:  98\n",
      "Denoised DWI Volume:  99\n",
      "Denoised DWI Volume:  100\n",
      "Denoised DWI Volume:  101\n",
      "Denoised DWI Volume:  102\n",
      "Denoised DWI Volume:  103\n",
      "Denoised DWI Volume:  104\n",
      "Denoised DWI Volume:  105\n",
      "Denoised DWI Volume:  106\n",
      "Denoised DWI Volume:  107\n",
      "Denoised DWI Volume:  108\n",
      "Denoised DWI Volume:  109\n",
      "Denoised DWI Volume:  110\n",
      "Denoised DWI Volume:  111\n",
      "Denoised DWI Volume:  112\n",
      "Denoised DWI Volume:  113\n",
      "Denoised DWI Volume:  114\n",
      "Denoised DWI Volume:  115\n",
      "Denoised DWI Volume:  116\n",
      "Denoised DWI Volume:  117\n",
      "Denoised DWI Volume:  118\n",
      "Denoised DWI Volume:  119\n",
      "Denoised DWI Volume:  120\n",
      "Denoised DWI Volume:  121\n",
      "Denoised DWI Volume:  122\n",
      "Denoised DWI Volume:  123\n",
      "Denoised DWI Volume:  124\n",
      "Denoised DWI Volume:  125\n",
      "Denoised DWI Volume:  126\n",
      "Denoised DWI Volume:  127\n",
      "Denoised DWI Volume:  128\n",
      "Denoised DWI Volume:  129\n",
      "Denoised DWI Volume:  130\n",
      "Denoised DWI Volume:  131\n",
      "Denoised DWI Volume:  132\n",
      "Denoised DWI Volume:  133\n",
      "Denoised DWI Volume:  134\n",
      "Denoised DWI Volume:  135\n",
      "Denoised DWI Volume:  136\n",
      "Denoised DWI Volume:  137\n",
      "Denoised DWI Volume:  138\n",
      "Denoised DWI Volume:  139\n",
      "Denoised DWI Volume:  140\n",
      "Denoised DWI Volume:  141\n",
      "Denoised DWI Volume:  142\n",
      "Denoised DWI Volume:  143\n",
      "Denoised DWI Volume:  144\n",
      "Denoised DWI Volume:  145\n",
      "Denoised DWI Volume:  146\n",
      "Denoised DWI Volume:  147\n",
      "Denoised DWI Volume:  148\n",
      "Denoised DWI Volume:  149\n",
      "Total time taken for Patch2Self:  1485.9637830257416  seconds\n"
     ]
    }
   ],
   "source": [
    "import numpy as np\n",
    "\n",
    "from dipy.core.gradients import gradient_table\n",
    "from dipy.data import get_fnames, default_sphere\n",
    "from dipy.io.gradients import read_bvals_bvecs\n",
    "from dipy.io.image import load_nifti\n",
    "from dipy.denoise.patch2self import patch2self\n",
    "\n",
    "hardi_fname, hardi_bval_fname, hardi_bvec_fname = get_fnames('stanford_hardi')\n",
    "\n",
    "data1, affine = load_nifti(hardi_fname)\n",
    "\n",
    "# NOTE:\n",
    "# if comparison needs to be done with P2S2, uncomment the following\n",
    "\n",
    "# data1, affine = load_nifti('cs_denoised_SH_50K.nii.gz') \n",
    "\n",
    "bvals, bvecs = read_bvals_bvecs(hardi_bval_fname, hardi_bvec_fname)\n",
    "\n",
    "data = patch2self(data1, bvals, model='ols', shift_intensity=True,\n",
    "                  clip_negative_vals=False, verbose=True)\n",
    "\n",
    "gtab = gradient_table(bvals, bvecs)"
   ]
  },
  {
   "cell_type": "code",
   "execution_count": 2,
   "metadata": {},
   "outputs": [],
   "source": [
    "from dipy.reconst.csdeconv import (auto_response_ssst,\n",
    "                                   mask_for_response_ssst,\n",
    "                                   response_from_mask_ssst)\n",
    "\n",
    "response, ratio = auto_response_ssst(gtab, data, roi_radii=10, fa_thr=0.7)"
   ]
  },
  {
   "cell_type": "code",
   "execution_count": 3,
   "metadata": {},
   "outputs": [
    {
     "name": "stdout",
     "output_type": "stream",
     "text": [
      "555\n"
     ]
    }
   ],
   "source": [
    "mask = mask_for_response_ssst(gtab, data, roi_radii=10, fa_thr=0.7)\n",
    "nvoxels = np.sum(mask)\n",
    "print(nvoxels)\n",
    "\n",
    "response, ratio = response_from_mask_ssst(gtab, data, mask)"
   ]
  },
  {
   "cell_type": "code",
   "execution_count": 4,
   "metadata": {},
   "outputs": [
    {
     "name": "stdout",
     "output_type": "stream",
     "text": [
      "Saving illustration as csd_response.png\n"
     ]
    }
   ],
   "source": [
    "from dipy.viz import window, actor\n",
    "from dipy.sims.voxel import single_tensor_odf\n",
    "\n",
    "# Enables/disables interactive visualization\n",
    "interactive = True\n",
    "\n",
    "scene = window.Scene()\n",
    "evals = response[0]\n",
    "evecs = np.array([[0, 1, 0], [0, 0, 1], [1, 0, 0]]).T\n",
    "\n",
    "\n",
    "response_odf = single_tensor_odf(default_sphere.vertices, evals, evecs)\n",
    "# transform our data from 1D to 4D\n",
    "response_odf = response_odf[None, None, None, :]\n",
    "response_actor = actor.odf_slicer(response_odf, sphere=default_sphere,\n",
    "                                  colormap='plasma')\n",
    "scene.add(response_actor)\n",
    "print('Saving illustration as csd_response.png')\n",
    "window.record(scene, out_path='csd_response.png', size=(200, 200))\n",
    "# if interactive:\n",
    "#     window.show(scene)"
   ]
  },
  {
   "cell_type": "code",
   "execution_count": 5,
   "metadata": {},
   "outputs": [],
   "source": [
    "scene.rm(response_actor)"
   ]
  },
  {
   "cell_type": "code",
   "execution_count": 6,
   "metadata": {},
   "outputs": [],
   "source": [
    "from dipy.reconst.csdeconv import recursive_response\n",
    "import dipy.reconst.dti as dti\n",
    "tenmodel = dti.TensorModel(gtab)\n",
    "tenfit = tenmodel.fit(data, mask=data[..., 0] > 200)\n",
    "\n",
    "from dipy.reconst.dti import fractional_anisotropy\n",
    "FA = fractional_anisotropy(tenfit.evals)\n",
    "MD = dti.mean_diffusivity(tenfit.evals)\n",
    "wm_mask = (np.logical_or(FA >= 0.4, (np.logical_and(FA >= 0.15, MD >= 0.0011))))\n",
    "\n",
    "response = recursive_response(gtab, data, mask=wm_mask, sh_order=8,\n",
    "                              peak_thr=0.01, init_fa=0.08,\n",
    "                              init_trace=0.0021, iter=8, convergence=0.001,\n",
    "                              parallel=False)"
   ]
  },
  {
   "cell_type": "code",
   "execution_count": 7,
   "metadata": {},
   "outputs": [
    {
     "name": "stdout",
     "output_type": "stream",
     "text": [
      "Saving illustration as csd_recursive_response.png\n"
     ]
    }
   ],
   "source": [
    "interactive = True\n",
    "response_signal = response.on_sphere(default_sphere)\n",
    "# transform our data from 1D to 4D\n",
    "response_signal = response_signal[None, None, None, :]\n",
    "response_actor = actor.odf_slicer(response_signal, sphere=default_sphere,\n",
    "                                  colormap='plasma')\n",
    "\n",
    "scene = window.Scene()\n",
    "\n",
    "scene.add(response_actor)\n",
    "print('Saving illustration as csd_recursive_response.png')\n",
    "window.record(scene, out_path='csd_recursive_response.png', size=(500, 500))\n",
    "# if interactive:\n",
    "#     window.show(scene)"
   ]
  },
  {
   "cell_type": "code",
   "execution_count": 8,
   "metadata": {},
   "outputs": [],
   "source": [
    "scene.rm(response_actor)"
   ]
  },
  {
   "cell_type": "code",
   "execution_count": 9,
   "metadata": {},
   "outputs": [
    {
     "name": "stdout",
     "output_type": "stream",
     "text": [
      "Saving illustration as csd_odfs.png\n"
     ]
    }
   ],
   "source": [
    "from dipy.reconst.csdeconv import ConstrainedSphericalDeconvModel\n",
    "csd_model = ConstrainedSphericalDeconvModel(gtab, response)\n",
    "data_small = data[20:50, 55:85, 38:39]\n",
    "csd_fit = csd_model.fit(data_small)\n",
    "csd_odf = csd_fit.odf(default_sphere)\n",
    "\n",
    "fodf_spheres = actor.odf_slicer(csd_odf, sphere=default_sphere, scale=0.9,\n",
    "                                norm=False, colormap='plasma')\n",
    "\n",
    "scene.add(fodf_spheres)\n",
    "\n",
    "print('Saving illustration as csd_odfs.png')\n",
    "window.record(scene, out_path='csd_odfs_den_sketch.png', size=(600, 600))\n",
    "if interactive:\n",
    "    window.show(scene)"
   ]
  }
 ],
 "metadata": {
  "kernelspec": {
   "display_name": "Python 3",
   "language": "python",
   "name": "python3"
  },
  "language_info": {
   "codemirror_mode": {
    "name": "ipython",
    "version": 3
   },
   "file_extension": ".py",
   "mimetype": "text/x-python",
   "name": "python",
   "nbconvert_exporter": "python",
   "pygments_lexer": "ipython3",
   "version": "3.7.4"
  }
 },
 "nbformat": 4,
 "nbformat_minor": 2
}
