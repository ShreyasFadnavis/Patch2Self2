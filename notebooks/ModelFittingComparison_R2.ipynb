{
 "cells": [
  {
   "cell_type": "markdown",
   "metadata": {},
   "source": [
    "# Model Fitting comparison"
   ]
  },
  {
   "cell_type": "code",
   "execution_count": null,
   "metadata": {},
   "outputs": [],
   "source": [
    "import sys\n",
    "import numpy as np\n",
    "np.random.RandomState(seed=2014)\n",
    "import matplotlib.pyplot as plt\n",
    "import dipy.reconst.cross_validation as xval\n",
    "import dipy.reconst.dti as dti\n",
    "import dipy.reconst.dki as dki\n",
    "import scipy.stats as stats\n",
    "from dipy.io.image import load_nifti\n",
    "from dipy.core.gradients import gradient_table"
   ]
  },
  {
   "cell_type": "markdown",
   "metadata": {},
   "source": [
    "#### Load data denoised with P2S and P2S2 along with the Raw Noisy data"
   ]
  },
  {
   "cell_type": "code",
   "execution_count": null,
   "metadata": {
    "scrolled": true
   },
   "outputs": [],
   "source": [
    "data, affine = load_nifti('data.nii.gz')\n",
    "data_p2s, affine = load_nifti('denoised_patch2self_7T.nii.gz')\n",
    "data_p2s2, _ = load_nifti('p2s2_denoised_7T_50K.nii.gz') "
   ]
  },
  {
   "cell_type": "code",
   "execution_count": null,
   "metadata": {},
   "outputs": [],
   "source": [
    "bvals = np.loadtxt('bvals_7T.bval')\n",
    "bvecs = np.loadtxt('bvecs_7T.bvec')\n",
    "\n",
    "gtab = gradient_table(bvals, bvecs, b0_threshold=100)"
   ]
  },
  {
   "cell_type": "markdown",
   "metadata": {},
   "source": [
    "#### Select 80th slice "
   ]
  },
  {
   "cell_type": "code",
   "execution_count": null,
   "metadata": {},
   "outputs": [],
   "source": [
    "data_slice = data[..., 80:81, :]\n",
    "data_slice_p2s = data_p2s[..., 80:81, :]\n",
    "data_slice_p2s2 = data_p2s2[..., 80:81, :]"
   ]
  },
  {
   "cell_type": "markdown",
   "metadata": {},
   "source": [
    "### Mask the data using the Median Otsu algorithm from DIPY"
   ]
  },
  {
   "cell_type": "code",
   "execution_count": null,
   "metadata": {},
   "outputs": [],
   "source": [
    "from dipy.segment.mask import median_otsu\n",
    "_, mask = median_otsu(data, vol_idx=[0, 1])"
   ]
  },
  {
   "cell_type": "code",
   "execution_count": null,
   "metadata": {},
   "outputs": [],
   "source": [
    "data_slice[mask[..., 80:81]==0] = 0\n",
    "data_slice_p2s[mask[..., 80:81]==0] = 0\n",
    "data_slice_p2s2[mask[..., 80:81]==0] = 0"
   ]
  },
  {
   "cell_type": "markdown",
   "metadata": {},
   "source": [
    "#### Use the DTI and DKI models for performing the cross-validation to evaluate goodness of fit"
   ]
  },
  {
   "cell_type": "code",
   "execution_count": null,
   "metadata": {},
   "outputs": [],
   "source": [
    "dti_model = dti.TensorModel(gtab)\n",
    "dki_model = dki.DiffusionKurtosisModel(gtab)"
   ]
  },
  {
   "cell_type": "markdown",
   "metadata": {},
   "source": [
    "#### Perform crossvalidation"
   ]
  },
  {
   "cell_type": "code",
   "execution_count": null,
   "metadata": {
    "scrolled": true
   },
   "outputs": [],
   "source": [
    "dti_slice = xval.kfold_xval(dti_model, data_slice, 2)\n",
    "dki_slice = xval.kfold_xval(dki_model, data_slice, 2)\n",
    "\n",
    "dti_slice_p2s = xval.kfold_xval(dti_model, data_slice_p2s, 2)\n",
    "dki_slice_p2s = xval.kfold_xval(dki_model, data_slice_p2s, 2)\n",
    "\n",
    "dti_slice_p2s2 = xval.kfold_xval(dti_model, data_slice_p2s2, 2)\n",
    "dki_slice_p2s2 = xval.kfold_xval(dki_model, data_slice_p2s2, 2)"
   ]
  },
  {
   "cell_type": "markdown",
   "metadata": {},
   "source": [
    "#### Get the arrays containing $R^2$ values for all voxels (skip voxels with `nan` values)"
   ]
  },
  {
   "cell_type": "code",
   "execution_count": null,
   "metadata": {},
   "outputs": [],
   "source": [
    "r2s_dti = []\n",
    "for i in range(0, dti_slice.shape[0]):\n",
    "    for j in range(0, dti_slice.shape[1]):\n",
    "        for k in range(0, dti_slice.shape[2]):\n",
    "            dti_r2 = stats.pearsonr(data_slice[i, j, k, :], dti_slice[i, j, k, :])[0]**2\n",
    "            r2s_dti.append(dti_r2)\n",
    "r2s_dti = np.array(r2s_dti)\n",
    "r2s_dti = r2s_dti[~np.isnan(r2s_dti)]\n",
    "\n",
    "r2s_dki = []\n",
    "for i in range(0, dki_slice.shape[0]):\n",
    "    for j in range(0, dki_slice.shape[1]):\n",
    "        for k in range(0, dki_slice.shape[2]):\n",
    "            dki_r2 = stats.pearsonr(data_slice[i, j, k, :], dki_slice[i, j, k, :])[0]**2\n",
    "            r2s_dki.append(dki_r2)\n",
    "r2s_dki = np.array(r2s_dki)\n",
    "r2s_dki = r2s_dki[~np.isnan(r2s_dki)]"
   ]
  },
  {
   "cell_type": "code",
   "execution_count": null,
   "metadata": {},
   "outputs": [],
   "source": [
    "r2s_dti_p2s2 = []\n",
    "for i in range(0, dti_slice_p2s2.shape[0]):\n",
    "    for j in range(0, dti_slice_p2s2.shape[1]):\n",
    "        for k in range(0, dti_slice_p2s2.shape[2]):\n",
    "            dti_r2_p2s2 = stats.pearsonr(data_slice[i, j, k, :], dti_slice_p2s2[i, j, k, :])[0]**2\n",
    "            r2s_dti_p2s2.append(dti_r2_p2s2)\n",
    "r2s_dti_p2s2 = np.array(r2s_dti_p2s2)\n",
    "r2s_dti_p2s2 = r2s_dti_p2s2[~np.isnan(r2s_dti_p2s2)]\n",
    "\n",
    "r2s_dki_p2s2 = []\n",
    "for i in range(0, dki_slice.shape[0]):\n",
    "    for j in range(0, dki_slice.shape[1]):\n",
    "        for k in range(0, dki_slice.shape[2]):\n",
    "            dki_r2_p2s2 = stats.pearsonr(data_slice[i, j, k, :], dki_slice_p2s2[i, j, k, :])[0]**2\n",
    "            r2s_dki_p2s2.append(dki_r2_p2s2)\n",
    "r2s_dki_p2s2 = np.array(r2s_dki_p2s2)\n",
    "r2s_dki_p2s2 = r2s_dki_p2s2[~np.isnan(r2s_dki_p2s2)]"
   ]
  },
  {
   "cell_type": "code",
   "execution_count": null,
   "metadata": {},
   "outputs": [],
   "source": [
    "r2s_dti_p2s = []\n",
    "for i in range(0, dti_slice.shape[0]):\n",
    "    for j in range(0, dti_slice.shape[1]):\n",
    "        for k in range(0, dti_slice.shape[2]):\n",
    "            dti_r2_p2s = stats.pearsonr(data_slice[i, j, k, :], dti_slice_p2s[i, j, k, :])[0]**2\n",
    "            r2s_dti_p2s.append(dti_r2_p2s)\n",
    "r2s_dti_p2s = np.array(r2s_dti_p2s)\n",
    "r2s_dti_p2s = r2s_dti_p2s[~np.isnan(r2s_dti_p2s)]\n",
    "\n",
    "r2s_dki_p2s = []\n",
    "for i in range(0, dki_slice.shape[0]):\n",
    "    for j in range(0, dki_slice.shape[1]):\n",
    "        for k in range(0, dki_slice.shape[2]):\n",
    "            dki_r2_p2s = stats.pearsonr(data_slice[i, j, k, :], dki_slice_p2s[i, j, k, :])[0]**2\n",
    "            r2s_dki_p2s.append(dki_r2_p2s)\n",
    "r2s_dki_p2s = np.array(r2s_dki_p2s)\n",
    "r2s_dki_p2s = r2s_dki_p2s[~np.isnan(r2s_dki_p2s)]"
   ]
  },
  {
   "cell_type": "markdown",
   "metadata": {},
   "source": [
    "### Append all scores in a dataframe for plotting"
   ]
  },
  {
   "cell_type": "code",
   "execution_count": null,
   "metadata": {},
   "outputs": [],
   "source": [
    "import pandas as pd\n",
    "\n",
    "df = pd.DataFrame({'Raw DTI':r2s_dti,\n",
    "                   'Raw DKI':r2s_dki,\n",
    "                   'Patch2Self2 DTI':r2s_dti_p2s2,\n",
    "                   'Patch2Self2 DKI':r2s_dki_p2s,\n",
    "                   'Patch2Self DTI':r2s_dti_p2s2,\n",
    "                   'Patch2Self DKI':r2s_dki_p2s})"
   ]
  },
  {
   "cell_type": "markdown",
   "metadata": {},
   "source": [
    "#### Subtract the $R^2$ scores of Noisy Data from both P2S and P2S2 for both DTI and DKI models"
   ]
  },
  {
   "cell_type": "code",
   "execution_count": null,
   "metadata": {},
   "outputs": [],
   "source": [
    "df_diff = pd.DataFrame({'(P2S2 - Noisy) DTI':r2s_dti_p2s2 - r2s_dti,\n",
    "                        '(P2S - Noisy) DTI':r2s_dti_p2s - r2s_dti,\n",
    "                        '(P2S2 - Noisy) DKI':r2s_dki_p2s2 - r2s_dki,\n",
    "                        '(P2S - Noisy) DKI':r2s_dki_p2s - r2s_dki})"
   ]
  },
  {
   "cell_type": "markdown",
   "metadata": {},
   "source": [
    "#### Make strip-plots"
   ]
  },
  {
   "cell_type": "code",
   "execution_count": null,
   "metadata": {
    "scrolled": false
   },
   "outputs": [],
   "source": [
    "%matplotlib qt\n",
    "import seaborn as sns\n",
    "sns.set(style=\"white\")\n",
    "ax = sns.stripplot(x=\"variable\", y=\"value\", data=pd.melt(df_diff), palette=\"Set2\")"
   ]
  }
 ],
 "metadata": {
  "kernelspec": {
   "display_name": "Python 3",
   "language": "python",
   "name": "python3"
  },
  "language_info": {
   "codemirror_mode": {
    "name": "ipython",
    "version": 3
   },
   "file_extension": ".py",
   "mimetype": "text/x-python",
   "name": "python",
   "nbconvert_exporter": "python",
   "pygments_lexer": "ipython3",
   "version": "3.7.4"
  }
 },
 "nbformat": 4,
 "nbformat_minor": 2
}
