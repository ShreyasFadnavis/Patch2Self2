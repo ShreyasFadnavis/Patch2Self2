{
 "cells": [
  {
   "cell_type": "code",
   "execution_count": 42,
   "metadata": {
    "scrolled": true
   },
   "outputs": [],
   "source": [
    "from dipy.core.gradients import gradient_table\n",
    "from dipy.data import get_fnames\n",
    "from dipy.io.gradients import read_bvals_bvecs\n",
    "from dipy.io.image import load_nifti, load_nifti_data\n",
    "from dipy.reconst.csdeconv import (ConstrainedSphericalDeconvModel,\n",
    "                                   auto_response_ssst)\n",
    "from dipy.tracking import utils\n",
    "from dipy.tracking.local_tracking import LocalTracking\n",
    "from dipy.tracking.streamline import Streamlines\n",
    "from dipy.tracking.stopping_criterion import ThresholdStoppingCriterion\n",
    "from dipy.viz import window, actor, colormap, has_fury\n",
    "from dipy.denoise.patch2self import patch2self\n",
    "\n",
    "\n",
    "# Enables/disables interactive visualization\n",
    "interactive = True\n",
    "\n",
    "hardi_fname, hardi_bval_fname, hardi_bvec_fname = get_fnames('stanford_hardi')\n",
    "label_fname = get_fnames('stanford_labels')\n",
    "\n",
    "# NOTE: to denoised with raw, uncomment and use the following line:\n",
    "# data, affine, hardi_img = load_nifti(hardi_fname, return_img=True)\n",
    "\n",
    "data, affine, hardi_img = load_nifti('p2s2_denoised_SH_50K.nii.gz', return_img=True)\n",
    "data1, affine, hardi_img = load_nifti(hardi_fname, return_img=True)\n",
    "labels = load_nifti_data(label_fname)\n",
    "bvals, bvecs = read_bvals_bvecs(hardi_bval_fname, hardi_bvec_fname)\n",
    "gtab = gradient_table(bvals, bvecs)\n",
    "\n",
    "# NOTE: to denoised with P2S, uncomment the following line:\n",
    "# data = patch2self(data1, bvals, shift_intensity=True, clip_negative_vals=False, model='ols', verbose=True)\n",
    "\n",
    "seed_mask = (labels == 2)\n",
    "white_matter = (labels == 1) | (labels == 2)\n",
    "seeds = utils.seeds_from_mask(seed_mask, affine, density=1)\n",
    "\n",
    "response, ratio = auto_response_ssst(gtab, data, roi_radii=10, fa_thr=0.7)\n",
    "csd_model = ConstrainedSphericalDeconvModel(gtab, response, sh_order=6)\n",
    "csd_fit = csd_model.fit(data, mask=white_matter)"
   ]
  },
  {
   "cell_type": "code",
   "execution_count": 67,
   "metadata": {},
   "outputs": [],
   "source": [
    "from dipy.reconst.shm import CsaOdfModel\n",
    "\n",
    "csa_model = CsaOdfModel(gtab, sh_order=6)\n",
    "gfa = csa_model.fit(data, mask=white_matter).gfa\n",
    "stopping_criterion = ThresholdStoppingCriterion(gfa, .28)"
   ]
  },
  {
   "cell_type": "code",
   "execution_count": 68,
   "metadata": {},
   "outputs": [],
   "source": [
    "from dipy.direction import ProbabilisticDirectionGetter\n",
    "from dipy.data import small_sphere\n",
    "from dipy.io.stateful_tractogram import Space, StatefulTractogram\n",
    "from dipy.io.streamline import save_trk\n",
    "\n",
    "fod = csd_fit.odf(small_sphere)\n",
    "pmf = fod.clip(min=0)\n",
    "prob_dg = ProbabilisticDirectionGetter.from_pmf(pmf, max_angle=30.,\n",
    "                                                sphere=small_sphere)\n",
    "streamline_generator = LocalTracking(prob_dg, stopping_criterion, seeds,\n",
    "                                     affine, step_size=.5)\n",
    "streamlines = Streamlines(streamline_generator)"
   ]
  },
  {
   "cell_type": "code",
   "execution_count": 69,
   "metadata": {},
   "outputs": [],
   "source": [
    "# Compute lookup table\n",
    "from dipy.denoise.enhancement_kernel import EnhancementKernel\n",
    "\n",
    "D33 = 1.0\n",
    "D44 = 0.02\n",
    "t = 1\n",
    "k = EnhancementKernel(D33, D44, t)"
   ]
  },
  {
   "cell_type": "code",
   "execution_count": 70,
   "metadata": {},
   "outputs": [
    {
     "name": "stdout",
     "output_type": "stream",
     "text": [
      "The minimum fiber length is 10 points.                     Shorter fibers were found and removed.\n"
     ]
    }
   ],
   "source": [
    "# Apply FBC measures\n",
    "from dipy.tracking.fbcmeasures import FBCMeasures\n",
    "\n",
    "fbc = FBCMeasures(streamlines, k)"
   ]
  },
  {
   "cell_type": "code",
   "execution_count": 71,
   "metadata": {},
   "outputs": [],
   "source": [
    "# Calculate LFBC for original fibers\n",
    "fbc_sl_orig, clrs_orig, rfbc_orig = \\\n",
    "  fbc.get_points_rfbc_thresholded(0, emphasis=0.01)"
   ]
  },
  {
   "cell_type": "code",
   "execution_count": 73,
   "metadata": {},
   "outputs": [],
   "source": [
    "# Visualize the results\n",
    "from dipy.viz import window, actor\n",
    "\n",
    "# Create scene\n",
    "scene = window.Scene()\n",
    "\n",
    "# Original lines colored by LFBC\n",
    "lineactor = actor.line(fbc_sl_orig, clrs_orig, linewidth=2)\n",
    "scene.add(lineactor)\n",
    "\n",
    "\n",
    "# Show original fibers\n",
    "scene.set_camera(position=(-200, 0, 100),\n",
    "                 focal_point=(0, -5, 2),\n",
    "                 view_up=(0, 0, 1))\n",
    "window.record(scene, n_frames=1, out_path='CC_sketch.png', size=(900, 900))\n",
    "if interactive:\n",
    "    window.show(scene)"
   ]
  }
 ],
 "metadata": {
  "kernelspec": {
   "display_name": "Python 3",
   "language": "python",
   "name": "python3"
  },
  "language_info": {
   "codemirror_mode": {
    "name": "ipython",
    "version": 3
   },
   "file_extension": ".py",
   "mimetype": "text/x-python",
   "name": "python",
   "nbconvert_exporter": "python",
   "pygments_lexer": "ipython3",
   "version": "3.7.4"
  }
 },
 "nbformat": 4,
 "nbformat_minor": 2
}
